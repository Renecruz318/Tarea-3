{
  "nbformat": 4,
  "nbformat_minor": 0,
  "metadata": {
    "colab": {
      "name": "Tarea3.ipynb",
      "provenance": [],
      "authorship_tag": "ABX9TyNru6a5fGJynncSK32VaEf8",
      "include_colab_link": true
    },
    "kernelspec": {
      "name": "python3",
      "display_name": "Python 3"
    },
    "language_info": {
      "name": "python"
    }
  },
  "cells": [
    {
      "cell_type": "markdown",
      "metadata": {
        "id": "view-in-github",
        "colab_type": "text"
      },
      "source": [
        "<a href=\"https://colab.research.google.com/github/Renecruz318/Tarea-3/blob/main/Tarea3.ipynb\" target=\"_parent\"><img src=\"https://colab.research.google.com/assets/colab-badge.svg\" alt=\"Open In Colab\"/></a>"
      ]
    },
    {
      "cell_type": "code",
      "metadata": {
        "colab": {
          "base_uri": "https://localhost:8080/",
          "height": 242
        },
        "id": "PPTTTdpbFbGe",
        "outputId": "1b9627bc-76b1-41b1-a4d3-ac8f45652628"
      },
      "source": [
        "comanda = {\"Mesa\":3, \n",
        "           \"Comensal\":2, \n",
        "           \"Entrada\":\"Ensalada Verde\", \n",
        "           \"Medio\": \"crema de zanahoria\", \n",
        "           \"Fuerte\": \"filete\", \n",
        "           \"ADICIONAL\": {\"Adicionales\" [\"Filete termino medio\", \"La ensalada sin ningun tipo de semilla\", \"Adereso Ranch\"]}}\n",
        "\n",
        "vals = comanda.values()\n",
        "for val in vals:\n",
        "    (print(val))\n",
        "\n",
        "print(\"----items----\")\n",
        "elems = comanda.items()\n",
        "print(elems)                                                                                                                                      "
      ],
      "execution_count": 2,
      "outputs": [
        {
          "output_type": "error",
          "ename": "TypeError",
          "evalue": "ignored",
          "traceback": [
            "\u001b[0;31m---------------------------------------------------------------------------\u001b[0m",
            "\u001b[0;31mTypeError\u001b[0m                                 Traceback (most recent call last)",
            "\u001b[0;32m<ipython-input-2-8c183322cf68>\u001b[0m in \u001b[0;36m<module>\u001b[0;34m()\u001b[0m\n\u001b[0;32m----> 1\u001b[0;31m \u001b[0mcomanda\u001b[0m \u001b[0;34m=\u001b[0m \u001b[0;34m{\u001b[0m\u001b[0;34m\"Mesa\"\u001b[0m\u001b[0;34m:\u001b[0m\u001b[0;36m3\u001b[0m\u001b[0;34m,\u001b[0m \u001b[0;34m\"Comensal\"\u001b[0m\u001b[0;34m:\u001b[0m\u001b[0;36m2\u001b[0m\u001b[0;34m,\u001b[0m \u001b[0;34m\"Entrada\"\u001b[0m\u001b[0;34m:\u001b[0m\u001b[0;34m\"Ensalada Verde\"\u001b[0m\u001b[0;34m,\u001b[0m \u001b[0;34m\"Medio\"\u001b[0m\u001b[0;34m:\u001b[0m \u001b[0;34m\"crema de zanahoria\"\u001b[0m\u001b[0;34m,\u001b[0m \u001b[0;34m\"Fuerte\"\u001b[0m\u001b[0;34m:\u001b[0m \u001b[0;34m\"filete\"\u001b[0m\u001b[0;34m,\u001b[0m \u001b[0;34m\"ADICIONAL\"\u001b[0m\u001b[0;34m:\u001b[0m \u001b[0;34m{\u001b[0m\u001b[0;34m\"Adicionales\"\u001b[0m \u001b[0;34m[\u001b[0m\u001b[0;34m\"Filete termino medio\"\u001b[0m\u001b[0;34m,\u001b[0m \u001b[0;34m\"La ensalada sin ningun tipo de semilla\"\u001b[0m\u001b[0;34m,\u001b[0m \u001b[0;34m\"Adereso Ranch\"\u001b[0m\u001b[0;34m]\u001b[0m\u001b[0;34m}\u001b[0m\u001b[0;34m}\u001b[0m\u001b[0;34m\u001b[0m\u001b[0;34m\u001b[0m\u001b[0m\n\u001b[0m\u001b[1;32m      2\u001b[0m \u001b[0;34m\u001b[0m\u001b[0m\n\u001b[1;32m      3\u001b[0m \u001b[0mvals\u001b[0m \u001b[0;34m=\u001b[0m \u001b[0mcomanda\u001b[0m\u001b[0;34m.\u001b[0m\u001b[0mvalues\u001b[0m\u001b[0;34m(\u001b[0m\u001b[0;34m)\u001b[0m\u001b[0;34m\u001b[0m\u001b[0;34m\u001b[0m\u001b[0m\n\u001b[1;32m      4\u001b[0m \u001b[0;32mfor\u001b[0m \u001b[0mval\u001b[0m \u001b[0;32min\u001b[0m \u001b[0mvals\u001b[0m\u001b[0;34m:\u001b[0m\u001b[0;34m\u001b[0m\u001b[0;34m\u001b[0m\u001b[0m\n\u001b[1;32m      5\u001b[0m     \u001b[0;34m(\u001b[0m\u001b[0mprint\u001b[0m\u001b[0;34m(\u001b[0m\u001b[0mval\u001b[0m\u001b[0;34m)\u001b[0m\u001b[0;34m)\u001b[0m\u001b[0;34m\u001b[0m\u001b[0;34m\u001b[0m\u001b[0m\n",
            "\u001b[0;31mTypeError\u001b[0m: string indices must be integers"
          ]
        }
      ]
    },
    {
      "cell_type": "code",
      "metadata": {
        "colab": {
          "base_uri": "https://localhost:8080/",
          "height": 128
        },
        "id": "EbC5l6n6Mown",
        "outputId": "ecda80f5-6a9c-4dea-b97c-b2468952e54c"
      },
      "source": [
        "comanda = {\n",
        "\"Detalle :\",\n",
        "\"Comensal\" : 2,\n",
        "\"Medio\" : \"crema de zanahoria\",\n",
        "\"Fuerte\" : \"filete\"\n",
        "\"Adicionales\" : {\n",
        "\"filete\" : \"termino medio\",\n",
        "\"Ensalada\" : \"sin ningun tipo de semilla\",\n",
        "\"Adereso\" : \"Ranch\"\n",
        "},\n",
        "\"direccion\" : {\n",
        "\"calle\" : \"Colorines\",\n",
        "\"num_exterior\" : 34,\n",
        "\"interior\" : \"apartmento B\"\n",
        "},\n",
        "\"telefonos\" : {\n",
        "\"casa\" : 556463663,\n",
        "\"celular\" : [\"+5255767664\" , \"+52557373773\"]\n",
        "}\n",
        "\n",
        "}\n",
        "vals = comanda.values()\n",
        "for val in vals:\n",
        "    (print(val))\n",
        "\n",
        "print(\"----items----\")\n",
        "elems = comanda.items()\n",
        "print(elems)"
      ],
      "execution_count": 6,
      "outputs": [
        {
          "output_type": "error",
          "ename": "SyntaxError",
          "evalue": "ignored",
          "traceback": [
            "\u001b[0;36m  File \u001b[0;32m\"<ipython-input-6-a80e0278377d>\"\u001b[0;36m, line \u001b[0;32m3\u001b[0m\n\u001b[0;31m    \"Comensal\" : 2,\u001b[0m\n\u001b[0m               ^\u001b[0m\n\u001b[0;31mSyntaxError\u001b[0m\u001b[0;31m:\u001b[0m invalid syntax\n"
          ]
        }
      ]
    },
    {
      "cell_type": "code",
      "metadata": {
        "colab": {
          "base_uri": "https://localhost:8080/"
        },
        "id": "imonMiUpOuLg",
        "outputId": "ac241535-c028-4824-90dd-d0e0c3bb5bb6"
      },
      "source": [
        "comanda = {\n",
        "\"Mesa =\" : 3 ,\n",
        "\"Comensal =\" : 2,\n",
        "\"Entrada =\" : \"Ensalada verde\",\n",
        "\"Medio =\" : \"Crema de zanahoria\",\n",
        "\"Fuerte =\" : \"Filete\",\n",
        "\"Adicionales =\" : {\"Filete termino medio\" , \"La ensalada sin ningun tipo de semilla\", \"Adereso Ranch\"\n",
        "}\n",
        "}\n",
        "print(\"-----------\")\n",
        "print(\"Detalle:\")\n",
        "for llave in llaves:\n",
        "    print(llave)\n",
        "    print(comanda[llave])\n",
        "print(\"-------------\")\n",
        "\n"
      ],
      "execution_count": 36,
      "outputs": [
        {
          "output_type": "stream",
          "name": "stdout",
          "text": [
            "-----------\n",
            "Detalle:\n",
            "Mesa =\n",
            "3\n",
            "Comensal =\n",
            "2\n",
            "Entrada =\n",
            "Ensalada verde\n",
            "Medio =\n",
            "Crema de zanahoria\n",
            "Fuerte =\n",
            "Filete\n",
            "Adicionales =\n",
            "{'Adereso Ranch', 'La ensalada sin ningun tipo de semilla', 'Filete termino medio'}\n",
            "-------------\n"
          ]
        }
      ]
    }
  ]
}